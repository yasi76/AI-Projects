{
  "cells": [
    {
      "cell_type": "code",
      "execution_count": null,
      "metadata": {
        "id": "bUik05YqMyCH"
      },
      "outputs": [],
      "source": [
        "# Copyright 2021 MIT 6.S191 Introduction to Deep Learning. All Rights Reserved.\n",
        "# Licensed under the MIT License. You may not use this file except in compliance\n",
        "# with the License. Use and/or modification of this code outside of 6.S191 must\n",
        "# reference:\n",
        "# © MIT 6.S191: Introduction to Deep Learning\n",
        "# http://introtodeeplearning.com"
      ]
    },
    {
      "cell_type": "markdown",
      "metadata": {
        "id": "O-97SDET3JG-"
      },
      "source": [
        "# Lab 1: Intro to TensorFlow and Music Generation with RNNs\n",
        "\n",
        "# Part 2: Music Generation with RNNs\n",
        "\n",
        "In this portion of the lab, we will explore building a Recurrent Neural Network (RNN) for music generation. We will train a model to learn the patterns in raw sheet music in [ABC notation](https://en.wikipedia.org/wiki/ABC_notation) and then use this model to generate new music."
      ]
    },
    {
      "cell_type": "markdown",
      "metadata": {
        "id": "rsvlBQYCrE4I"
      },
      "source": [
        "## 2.1 Dependencies\n",
        "First, let's download the course repository, install dependencies, and import the relevant packages we'll need for this lab."
      ]
    },
    {
      "cell_type": "code",
      "execution_count": null,
      "metadata": {
        "id": "riVZCVK65QTH",
        "outputId": "a309314a-ba78-43c8-8a4d-ca8212149ba8"
      },
      "outputs": [
        {
          "name": "stdout",
          "output_type": "stream",
          "text": [
            "Collecting mitdeeplearning\n",
            "  Downloading mitdeeplearning-0.2.0.tar.gz (2.1 MB)\n",
            "\u001b[K     |████████████████████████████████| 2.1 MB 858 kB/s eta 0:00:01\n",
            "\u001b[?25hRequirement already satisfied: numpy in /opt/conda/lib/python3.7/site-packages (from mitdeeplearning) (1.19.5)\n",
            "Requirement already satisfied: regex in /opt/conda/lib/python3.7/site-packages (from mitdeeplearning) (2020.11.13)\n",
            "Requirement already satisfied: tqdm in /opt/conda/lib/python3.7/site-packages (from mitdeeplearning) (4.55.1)\n",
            "Requirement already satisfied: gym in /opt/conda/lib/python3.7/site-packages (from mitdeeplearning) (0.18.0)\n",
            "Requirement already satisfied: cloudpickle<1.7.0,>=1.2.0 in /opt/conda/lib/python3.7/site-packages (from gym->mitdeeplearning) (1.6.0)\n",
            "Requirement already satisfied: pyglet<=1.5.0,>=1.4.0 in /opt/conda/lib/python3.7/site-packages (from gym->mitdeeplearning) (1.5.0)\n",
            "Requirement already satisfied: scipy in /opt/conda/lib/python3.7/site-packages (from gym->mitdeeplearning) (1.5.4)\n",
            "Requirement already satisfied: Pillow<=7.2.0 in /opt/conda/lib/python3.7/site-packages (from gym->mitdeeplearning) (7.2.0)\n",
            "Requirement already satisfied: future in /opt/conda/lib/python3.7/site-packages (from pyglet<=1.5.0,>=1.4.0->gym->mitdeeplearning) (0.18.2)\n",
            "Building wheels for collected packages: mitdeeplearning\n",
            "  Building wheel for mitdeeplearning (setup.py) ... \u001b[?25ldone\n",
            "\u001b[?25h  Created wheel for mitdeeplearning: filename=mitdeeplearning-0.2.0-py3-none-any.whl size=2115443 sha256=754cd540042b43525a8876ee2b8b26435716eb8aee9049b8b1ec48bac3c7aa7e\n",
            "  Stored in directory: /root/.cache/pip/wheels/9a/b9/4f/99b7c8c5c75355550b83e1fcfc02956fb40c35eb01e2262877\n",
            "Successfully built mitdeeplearning\n",
            "Installing collected packages: mitdeeplearning\n",
            "Successfully installed mitdeeplearning-0.2.0\n",
            "^C\n"
          ]
        },
        {
          "ename": "AssertionError",
          "evalue": "",
          "output_type": "error",
          "traceback": [
            "\u001b[0;31m---------------------------------------------------------------------------\u001b[0m",
            "\u001b[0;31mAssertionError\u001b[0m                            Traceback (most recent call last)",
            "\u001b[0;32m<ipython-input-1-976f1eabb7ca>\u001b[0m in \u001b[0;36m<module>\u001b[0;34m\u001b[0m\n\u001b[1;32m     18\u001b[0m \u001b[0;31m# Check that we are using a GPU, if not switch runtimes\u001b[0m\u001b[0;34m\u001b[0m\u001b[0;34m\u001b[0m\u001b[0;34m\u001b[0m\u001b[0m\n\u001b[1;32m     19\u001b[0m \u001b[0;31m#   using Runtime > Change Runtime Type > GPU\u001b[0m\u001b[0;34m\u001b[0m\u001b[0;34m\u001b[0m\u001b[0;34m\u001b[0m\u001b[0m\n\u001b[0;32m---> 20\u001b[0;31m \u001b[0;32massert\u001b[0m \u001b[0mlen\u001b[0m\u001b[0;34m(\u001b[0m\u001b[0mtf\u001b[0m\u001b[0;34m.\u001b[0m\u001b[0mconfig\u001b[0m\u001b[0;34m.\u001b[0m\u001b[0mlist_physical_devices\u001b[0m\u001b[0;34m(\u001b[0m\u001b[0;34m'GPU'\u001b[0m\u001b[0;34m)\u001b[0m\u001b[0;34m)\u001b[0m \u001b[0;34m>\u001b[0m \u001b[0;36m0\u001b[0m\u001b[0;34m\u001b[0m\u001b[0;34m\u001b[0m\u001b[0m\n\u001b[0m",
            "\u001b[0;31mAssertionError\u001b[0m: "
          ]
        }
      ],
      "source": [
        "# Import Tensorflow 2.0\n",
        "#%tensorflow_version 2.x\n",
        "import tensorflow as tf\n",
        "\n",
        "# Download and import the MIT 6.S191 package\n",
        "!pip install mitdeeplearning\n",
        "import mitdeeplearning as mdl\n",
        "\n",
        "# Import all remaining packages\n",
        "import numpy as np\n",
        "import os\n",
        "import time\n",
        "import functools\n",
        "from IPython import display as ipythondisplay\n",
        "from tqdm import tqdm\n",
        "!apt-get install abcmidi timidity > /dev/null 2>&1\n",
        "\n",
        "# Check that we are using a GPU, if not switch runtimes\n",
        "#   using Runtime > Change Runtime Type > GPU\n",
        "assert len(tf.config.list_physical_devices('GPU')) > 0"
      ]
    },
    {
      "cell_type": "markdown",
      "metadata": {
        "id": "_ajvp0No4qDm"
      },
      "source": [
        "## 2.2 Dataset\n",
        "\n",
        "![Let's Dance!](http://33.media.tumblr.com/3d223954ad0a77f4e98a7b87136aa395/tumblr_nlct5lFVbF1qhu7oio1_500.gif)\n",
        "\n",
        "We've gathered a dataset of thousands of Irish folk songs, represented in the ABC notation. Let's download the dataset and inspect it:\n"
      ]
    },
    {
      "cell_type": "code",
      "execution_count": null,
      "metadata": {
        "id": "P7dFnP5q3Jve",
        "outputId": "5dd7114c-7d44-40e0-c5b9-af980521a095"
      },
      "outputs": [
        {
          "name": "stdout",
          "output_type": "stream",
          "text": [
            "Found 817 songs in text\n",
            "\n",
            "Example song: \n",
            "X:1\n",
            "T:Alexander's\n",
            "Z: id:dc-hornpipe-1\n",
            "M:C|\n",
            "L:1/8\n",
            "K:D Major\n",
            "(3ABc|dAFA DFAd|fdcd FAdf|gfge fefd|(3efe (3dcB A2 (3ABc|!\n",
            "dAFA DFAd|fdcd FAdf|gfge fefd|(3efe dc d2:|!\n",
            "AG|FAdA FAdA|GBdB GBdB|Acec Acec|dfaf gecA|!\n",
            "FAdA FAdA|GBdB GBdB|Aceg fefd|(3efe dc d2:|!\n"
          ]
        }
      ],
      "source": [
        "# Download the dataset\n",
        "songs = mdl.lab1.load_training_data()\n",
        "\n",
        "# Print one of the songs to inspect it in greater detail!\n",
        "example_song = songs[0]\n",
        "print(\"\\nExample song: \")\n",
        "print(example_song)"
      ]
    },
    {
      "cell_type": "markdown",
      "metadata": {
        "id": "hKF3EHJlCAj2"
      },
      "source": [
        "We can easily convert a song in ABC notation to an audio waveform and play it back. Be patient for this conversion to run, it can take some time."
      ]
    },
    {
      "cell_type": "code",
      "execution_count": null,
      "metadata": {
        "id": "11toYzhEEKDz"
      },
      "outputs": [],
      "source": [
        "# Convert the ABC notation to audio file and listen to it\n",
        "mdl.lab1.play_song(example_song)"
      ]
    },
    {
      "cell_type": "markdown",
      "metadata": {
        "id": "7vH24yyquwKQ"
      },
      "source": [
        "One important thing to think about is that this notation of music does not simply contain information on the notes being played, but additionally there is meta information such as the song title, key, and tempo. How does the number of different characters that are present in the text file impact the complexity of the learning problem? This will become important soon, when we generate a numerical representation for the text data."
      ]
    },
    {
      "cell_type": "code",
      "execution_count": null,
      "metadata": {
        "id": "IlCgQBRVymwR",
        "outputId": "a183ed42-6938-44a7-df51-eae0479218f9"
      },
      "outputs": [
        {
          "name": "stdout",
          "output_type": "stream",
          "text": [
            "There are 83 unique characters in the dataset\n"
          ]
        }
      ],
      "source": [
        "# Join our list of song strings into a single string containing all songs\n",
        "songs_joined = \"\\n\\n\".join(songs)\n",
        "\n",
        "# Find all unique characters in the joined string\n",
        "vocab = sorted(set(songs_joined))\n",
        "print(\"There are\", len(vocab), \"unique characters in the dataset\")"
      ]
    },
    {
      "cell_type": "markdown",
      "metadata": {
        "id": "rNnrKn_lL-IJ"
      },
      "source": [
        "## 2.3 Process the dataset for the learning task\n",
        "\n",
        "Let's take a step back and consider our prediction task. We're trying to train a RNN model to learn patterns in ABC music, and then use this model to generate (i.e., predict) a new piece of music based on this learned information.\n",
        "\n",
        "Breaking this down, what we're really asking the model is: given a character, or a sequence of characters, what is the most probable next character? We'll train the model to perform this task.\n",
        "\n",
        "To achieve this, we will input a sequence of characters to the model, and train the model to predict the output, that is, the following character at each time step. RNNs maintain an internal state that depends on previously seen elements, so information about all characters seen up until a given moment will be taken into account in generating the prediction."
      ]
    },
    {
      "cell_type": "markdown",
      "metadata": {
        "id": "LFjSVAlWzf-N"
      },
      "source": [
        "### Vectorize the text\n",
        "\n",
        "Before we begin training our RNN model, we'll need to create a numerical representation of our text-based dataset. To do this, we'll generate two lookup tables: one that maps characters to numbers, and a second that maps numbers back to characters. Recall that we just identified the unique characters present in the text."
      ]
    },
    {
      "cell_type": "code",
      "execution_count": null,
      "metadata": {
        "id": "IalZLbvOzf-F"
      },
      "outputs": [],
      "source": [
        "### Define numerical representation of text ###\n",
        "\n",
        "# Create a mapping from character to unique index.\n",
        "# For example, to get the index of the character \"d\",\n",
        "#   we can evaluate `char2idx[\"d\"]`.\n",
        "char2idx = {u:i for i, u in enumerate(vocab)}\n",
        "\n",
        "# Create a mapping from indices to characters. This is\n",
        "#   the inverse of char2idx and allows us to convert back\n",
        "#   from unique index to the character in our vocabulary.\n",
        "idx2char = np.array(vocab)"
      ]
    },
    {
      "cell_type": "markdown",
      "metadata": {
        "id": "tZfqhkYCymwX"
      },
      "source": [
        "This gives us an integer representation for each character. Observe that the unique characters (i.e., our vocabulary) in the text are mapped as indices from 0 to `len(unique)`. Let's take a peek at this numerical representation of our dataset:"
      ]
    },
    {
      "cell_type": "code",
      "execution_count": null,
      "metadata": {
        "id": "FYyNlCNXymwY",
        "outputId": "33fefb10-e3cc-4b38-b66e-840278920a5f"
      },
      "outputs": [
        {
          "name": "stdout",
          "output_type": "stream",
          "text": [
            "{\n",
            "  '\\n':   0,\n",
            "  ' ' :   1,\n",
            "  '!' :   2,\n",
            "  '\"' :   3,\n",
            "  '#' :   4,\n",
            "  \"'\" :   5,\n",
            "  '(' :   6,\n",
            "  ')' :   7,\n",
            "  ',' :   8,\n",
            "  '-' :   9,\n",
            "  '.' :  10,\n",
            "  '/' :  11,\n",
            "  '0' :  12,\n",
            "  '1' :  13,\n",
            "  '2' :  14,\n",
            "  '3' :  15,\n",
            "  '4' :  16,\n",
            "  '5' :  17,\n",
            "  '6' :  18,\n",
            "  '7' :  19,\n",
            "  ...\n",
            "}\n"
          ]
        }
      ],
      "source": [
        "print('{')\n",
        "for char,_ in zip(char2idx, range(20)):\n",
        "    print('  {:4s}: {:3d},'.format(repr(char), char2idx[char]))\n",
        "print('  ...\\n}')"
      ]
    },
    {
      "cell_type": "code",
      "execution_count": null,
      "metadata": {
        "id": "g-LnKyu4dczc"
      },
      "outputs": [],
      "source": [
        "### Vectorize the songs string ###\n",
        "\n",
        "'''TODO: Write a function to convert the all songs string to a vectorized\n",
        "    (i.e., numeric) representation. Use the appropriate mapping\n",
        "    above to convert from vocab characters to the corresponding indices.\n",
        "\n",
        "  NOTE: the output of the `vectorize_string` function\n",
        "  should be a np.array with `N` elements, where `N` is\n",
        "  the number of characters in the input string\n",
        "'''\n",
        "\n",
        "def vectorize_string(string):\n",
        "  vectorized_songs = np.array([char2idx[song] for song in string ])\n",
        "  return vectorized_songs\n",
        "vectorized_songs = vectorize_string(songs_joined)"
      ]
    },
    {
      "cell_type": "markdown",
      "metadata": {
        "id": "IqxpSuZ1w-ub"
      },
      "source": [
        "We can also look at how the first part of the text is mapped to an integer representation:"
      ]
    },
    {
      "cell_type": "code",
      "execution_count": null,
      "metadata": {
        "id": "l1VKcQHcymwb",
        "outputId": "bf832391-7aa6-4ac4-db96-93a3e5c5bfc9"
      },
      "outputs": [
        {
          "name": "stdout",
          "output_type": "stream",
          "text": [
            "'X:1\\nT:Alex' ---- characters mapped to int ----> [49 22 13  0 45 22 26 67 60 79]\n"
          ]
        }
      ],
      "source": [
        "print ('{} ---- characters mapped to int ----> {}'.format(repr(songs_joined[:10]), vectorized_songs[:10]))\n",
        "# check that vectorized_songs is a numpy array\n",
        "assert isinstance(vectorized_songs, np.ndarray), \"returned result should be a numpy array\""
      ]
    },
    {
      "cell_type": "markdown",
      "metadata": {
        "id": "hgsVvVxnymwf"
      },
      "source": [
        "### Create training examples and targets\n",
        "\n",
        "Our next step is to actually divide the text into example sequences that we'll use during training. Each input sequence that we feed into our RNN will contain `seq_length` characters from the text. We'll also need to define a target sequence for each input sequence, which will be used in training the RNN to predict the next character. For each input, the corresponding target will contain the same length of text, except shifted one character to the right.\n",
        "\n",
        "To do this, we'll break the text into chunks of `seq_length+1`. Suppose `seq_length` is 4 and our text is \"Hello\". Then, our input sequence is \"Hell\" and the target sequence is \"ello\".\n",
        "\n",
        "The batch method will then let us convert this stream of character indices to sequences of the desired size."
      ]
    },
    {
      "cell_type": "code",
      "execution_count": null,
      "metadata": {
        "id": "LF-N8F7BoDRi",
        "outputId": "7094cde0-bcd3-4cb5-8729-00ad646230ce"
      },
      "outputs": [
        {
          "name": "stdout",
          "output_type": "stream",
          "text": [
            "[PASS] test_batch_func_types\n",
            "[PASS] test_batch_func_shapes\n",
            "[PASS] test_batch_func_next_step\n",
            "======\n",
            "[PASS] passed all tests!\n"
          ]
        }
      ],
      "source": [
        "### Batch definition to create training examples ###\n",
        "\n",
        "def get_batch(vectorized_songs, seq_length, batch_size):\n",
        "  # the length of the vectorized songs string\n",
        "  n = vectorized_songs.shape[0] - 1\n",
        "  # randomly choose the starting indices for the examples in the training batch\n",
        "  idx = np.random.choice(n-seq_length, batch_size)\n",
        "\n",
        "  '''TODO: construct a list of input sequences for the training batch'''\n",
        "  input_batch = [vectorized_songs[i:i+seq_length] for i in idx]\n",
        "  '''TODO: construct a list of output sequences for the training batch'''\n",
        "  output_batch = [vectorized_songs[i+1:i+seq_length+1] for i in idx]\n",
        "\n",
        "  # x_batch, y_batch provide the true inputs and targets for network training\n",
        "  x_batch = np.reshape(input_batch, [batch_size, seq_length])\n",
        "  y_batch = np.reshape(output_batch, [batch_size, seq_length])\n",
        "  return x_batch, y_batch\n",
        "\n",
        "\n",
        "# Perform some simple tests to make sure your batch function is working properly!\n",
        "test_args = (vectorized_songs, 10, 2)\n",
        "if not mdl.lab1.test_batch_func_types(get_batch, test_args) or \\\n",
        "   not mdl.lab1.test_batch_func_shapes(get_batch, test_args) or \\\n",
        "   not mdl.lab1.test_batch_func_next_step(get_batch, test_args):\n",
        "   print(\"======\\n[FAIL] could not pass tests\")\n",
        "else:\n",
        "   print(\"======\\n[PASS] passed all tests!\")"
      ]
    },
    {
      "cell_type": "markdown",
      "metadata": {
        "id": "_33OHL3b84i0"
      },
      "source": [
        "For each of these vectors, each index is processed at a single time step. So, for the input at time step 0, the model receives the index for the first character in the sequence, and tries to predict the index of the next character. At the next timestep, it does the same thing, but the RNN considers the information from the previous step, i.e., its updated state, in addition to the current input.\n",
        "\n",
        "We can make this concrete by taking a look at how this works over the first several characters in our text:"
      ]
    },
    {
      "cell_type": "code",
      "execution_count": null,
      "metadata": {
        "id": "0eBu9WZG84i0",
        "outputId": "30814ec8-b569-4025-cda7-5c213b18c197"
      },
      "outputs": [
        {
          "name": "stdout",
          "output_type": "stream",
          "text": [
            "Step   0\n",
            "  input: 27 ('B')\n",
            "  expected output: 58 ('c')\n",
            "Step   1\n",
            "  input: 58 ('c')\n",
            "  expected output: 26 ('A')\n",
            "Step   2\n",
            "  input: 26 ('A')\n",
            "  expected output: 82 ('|')\n",
            "Step   3\n",
            "  input: 82 ('|')\n",
            "  expected output: 31 ('F')\n",
            "Step   4\n",
            "  input: 31 ('F')\n",
            "  expected output: 14 ('2')\n"
          ]
        }
      ],
      "source": [
        "x_batch, y_batch = get_batch(vectorized_songs, seq_length=5, batch_size=1)\n",
        "\n",
        "for i, (input_idx, target_idx) in enumerate(zip(np.squeeze(x_batch), np.squeeze(y_batch))):\n",
        "    print(\"Step {:3d}\".format(i))\n",
        "    print(\"  input: {} ({:s})\".format(input_idx, repr(idx2char[input_idx])))\n",
        "    print(\"  expected output: {} ({:s})\".format(target_idx, repr(idx2char[target_idx])))"
      ]
    },
    {
      "cell_type": "markdown",
      "metadata": {
        "id": "r6oUuElIMgVx"
      },
      "source": [
        "## 2.4 The Recurrent Neural Network (RNN) model"
      ]
    },
    {
      "cell_type": "markdown",
      "metadata": {
        "id": "m8gPwEjRzf-Z"
      },
      "source": [
        "Now we're ready to define and train a RNN model on our ABC music dataset, and then use that trained model to generate a new song. We'll train our RNN using batches of song snippets from our dataset, which we generated in the previous section.\n",
        "\n",
        "The model is based off the LSTM architecture, where we use a state vector to maintain information about the temporal relationships between consecutive characters. The final output of the LSTM is then fed into a fully connected [`Dense`](https://www.tensorflow.org/api_docs/python/tf/keras/layers/Dense) layer where we'll output a softmax over each character in the vocabulary, and then sample from this distribution to predict the next character.\n",
        "\n",
        "As we introduced in the first portion of this lab, we'll be using the Keras API, specifically, [`tf.keras.Sequential`](https://www.tensorflow.org/api_docs/python/tf/keras/models/Sequential), to define the model. Three layers are used to define the model:\n",
        "\n",
        "* [`tf.keras.layers.Embedding`](https://www.tensorflow.org/api_docs/python/tf/keras/layers/Embedding): This is the input layer, consisting of a trainable lookup table that maps the numbers of each character to a vector with `embedding_dim` dimensions.\n",
        "* [`tf.keras.layers.LSTM`](https://www.tensorflow.org/api_docs/python/tf/keras/layers/LSTM): Our LSTM network, with size `units=rnn_units`.\n",
        "* [`tf.keras.layers.Dense`](https://www.tensorflow.org/api_docs/python/tf/keras/layers/Dense): The output layer, with `vocab_size` outputs.\n",
        "\n",
        "\n",
        "<img src=\"https://raw.githubusercontent.com/aamini/introtodeeplearning/2019/lab1/img/lstm_unrolled-01-01.png\" alt=\"Drawing\"/>"
      ]
    },
    {
      "cell_type": "markdown",
      "metadata": {
        "id": "rlaOqndqBmJo"
      },
      "source": [
        "### Define the RNN model\n",
        "\n",
        "Now, we will define a function that we will use to actually build the model."
      ]
    },
    {
      "cell_type": "code",
      "execution_count": null,
      "metadata": {
        "id": "8DsWzojvkbc7"
      },
      "outputs": [],
      "source": [
        "def LSTM(rnn_units):\n",
        "  return tf.keras.layers.LSTM(\n",
        "    rnn_units,\n",
        "    return_sequences=True,\n",
        "    recurrent_initializer='glorot_uniform',\n",
        "    recurrent_activation='sigmoid',\n",
        "    stateful=True,\n",
        "  )"
      ]
    },
    {
      "cell_type": "markdown",
      "metadata": {
        "id": "IbWU4dMJmMvq"
      },
      "source": [
        "The time has come! Fill in the `TODOs` to define the RNN model within the `build_model` function, and then call the function you just defined to instantiate the model!"
      ]
    },
    {
      "cell_type": "code",
      "execution_count": null,
      "metadata": {
        "id": "MtCrdfzEI2N0"
      },
      "outputs": [],
      "source": [
        "### Defining the RNN Model ###\n",
        "\n",
        "'''TODO: Add LSTM and Dense layers to define the RNN model using the Sequential API.'''\n",
        "def build_model(vocab_size, embedding_dim, rnn_units, batch_size):\n",
        "  model = tf.keras.Sequential([\n",
        "    # Layer 1: Embedding layer to transform indices into dense vectors\n",
        "    #   of a fixed embedding size\n",
        "    tf.keras.layers.Embedding(vocab_size, embedding_dim, batch_input_shape=[batch_size, None]),\n",
        "\n",
        "    # Layer 2: LSTM with `rnn_units` number of units.\n",
        "    # TODO: Call the LSTM function defined above to add this layer.\n",
        "    LSTM(rnn_units),\n",
        "\n",
        "    # Layer 3: Dense (fully-connected) layer that transforms the LSTM output\n",
        "    #   into the vocabulary size.\n",
        "    # TODO: Add the Dense layer.\n",
        "    tf.keras.layers.Dense(units = vocab_size)\n",
        "  ])\n",
        "\n",
        "  return model\n",
        "\n",
        "# Build a simple model with default hyperparameters. You will get the\n",
        "#   chance to change these later.\n",
        "model = build_model(len(vocab), embedding_dim=256, rnn_units=1024, batch_size=32)"
      ]
    },
    {
      "cell_type": "markdown",
      "metadata": {
        "id": "-ubPo0_9Prjb"
      },
      "source": [
        "### Test out the RNN model\n",
        "\n",
        "It's always a good idea to run a few simple checks on our model to see that it behaves as expected.  \n",
        "\n",
        "First, we can use the `Model.summary` function to print out a summary of our model's internal workings. Here we can check the layers in the model, the shape of the output of each of the layers, the batch size, etc."
      ]
    },
    {
      "cell_type": "code",
      "execution_count": null,
      "metadata": {
        "id": "RwG1DD6rDrRM",
        "outputId": "7d699a73-e0a3-40d6-fc7d-a1f0430c2854"
      },
      "outputs": [
        {
          "name": "stdout",
          "output_type": "stream",
          "text": [
            "Model: \"sequential_1\"\n",
            "_________________________________________________________________\n",
            "Layer (type)                 Output Shape              Param #   \n",
            "=================================================================\n",
            "embedding_1 (Embedding)      (32, None, 256)           21248     \n",
            "_________________________________________________________________\n",
            "lstm_1 (LSTM)                (32, None, 1024)          5246976   \n",
            "_________________________________________________________________\n",
            "dense_1 (Dense)              (32, None, 83)            85075     \n",
            "=================================================================\n",
            "Total params: 5,353,299\n",
            "Trainable params: 5,353,299\n",
            "Non-trainable params: 0\n",
            "_________________________________________________________________\n"
          ]
        }
      ],
      "source": [
        "model.summary()"
      ]
    },
    {
      "cell_type": "markdown",
      "metadata": {
        "id": "8xeDn5nZD0LX"
      },
      "source": [
        "We can also quickly check the dimensionality of our output, using a sequence length of 100. Note that the model can be run on inputs of any length."
      ]
    },
    {
      "cell_type": "code",
      "execution_count": null,
      "metadata": {
        "id": "C-_70kKAPrPU",
        "outputId": "c018cb10-2820-448e-b642-2e507bba7edc"
      },
      "outputs": [
        {
          "name": "stdout",
          "output_type": "stream",
          "text": [
            "Input shape:       (32, 100)  # (batch_size, sequence_length)\n",
            "Prediction shape:  (32, 100, 83) # (batch_size, sequence_length, vocab_size)\n"
          ]
        }
      ],
      "source": [
        "x, y = get_batch(vectorized_songs, seq_length=100, batch_size=32)\n",
        "pred = model(x)\n",
        "print(\"Input shape:      \", x.shape, \" # (batch_size, sequence_length)\")\n",
        "print(\"Prediction shape: \", pred.shape, \"# (batch_size, sequence_length, vocab_size)\")"
      ]
    },
    {
      "cell_type": "markdown",
      "metadata": {
        "id": "mT1HvFVUGpoE"
      },
      "source": [
        "### Predictions from the untrained model\n",
        "\n",
        "Let's take a look at what our untrained model is predicting.\n",
        "\n",
        "To get actual predictions from the model, we sample from the output distribution, which is defined by a `softmax` over our character vocabulary. This will give us actual character indices. This means we are using a [categorical distribution](https://en.wikipedia.org/wiki/Categorical_distribution) to sample over the example prediction. This gives a prediction of the next character (specifically its index) at each timestep.\n",
        "\n",
        "Note here that we sample from this probability distribution, as opposed to simply taking the `argmax`, which can cause the model to get stuck in a loop.\n",
        "\n",
        "Let's try this sampling out for the first example in the batch."
      ]
    },
    {
      "cell_type": "code",
      "execution_count": null,
      "metadata": {
        "id": "4V4MfFg0RQJg",
        "outputId": "be47da50-ab03-4564-b74f-bf9c783c8712"
      },
      "outputs": [
        {
          "data": {
            "text/plain": [
              "array([ 1, 48, 61, 57, 39, 18, 13, 19, 11, 22, 42, 58, 65, 21, 37, 13, 59,\n",
              "       70, 35, 70, 56,  5, 64, 26,  9, 33, 40, 82, 20, 81, 58, 49, 46, 75,\n",
              "       43, 63, 53,  2, 72, 78, 42, 79, 52, 15, 80, 46, 11, 59, 64, 75, 33,\n",
              "       73, 77, 70, 75, 38, 17, 73, 44, 35, 68, 61,  5, 61, 43, 73,  6, 73,\n",
              "       51, 44,  9, 12, 58, 47, 16, 54, 23, 61, 66, 75, 12, 42, 66, 38,  1,\n",
              "       54, 12, 19, 27, 45, 67, 67, 61, 39, 63, 49, 63, 12, 17, 38])"
            ]
          },
          "execution_count": 15,
          "metadata": {},
          "output_type": "execute_result"
        }
      ],
      "source": [
        "sampled_indices = tf.random.categorical(pred[0], num_samples=1)\n",
        "sampled_indices = tf.squeeze(sampled_indices,axis=-1).numpy()\n",
        "sampled_indices"
      ]
    },
    {
      "cell_type": "markdown",
      "metadata": {
        "id": "LfLtsP3mUhCG"
      },
      "source": [
        "We can now decode these to see the text predicted by the untrained model:"
      ]
    },
    {
      "cell_type": "code",
      "execution_count": null,
      "metadata": {
        "id": "xWcFwPwLSo05",
        "outputId": "1c382838-b088-4f8e-b265-db41f6113c2b"
      },
      "outputs": [
        {
          "name": "stdout",
          "output_type": "stream",
          "text": [
            "Input: \n",
            " '\\nK:D Major\\nfe|d2Bd A2FA|BAFA D2ED|B,DA,D DFBF|AFDF E2fe|!\\nd2Bd A2FA|BAFA D2ED|B,DA,D DFBF|AFEF D2:|!'\n",
            "\n",
            "Next Char Predictions: \n",
            " \" WfbN617/:Qcj9L1doJoa'iA-HO|8zcXUtRh]!qwQx[3yU/ditHrvotM5rSJmf'fRr(rZS-0cV4^<fkt0QkM ^07BTllfNhXh05M\"\n"
          ]
        }
      ],
      "source": [
        "print(\"Input: \\n\", repr(\"\".join(idx2char[x[0]])))\n",
        "print()\n",
        "print(\"Next Char Predictions: \\n\", repr(\"\".join(idx2char[sampled_indices])))"
      ]
    },
    {
      "cell_type": "markdown",
      "metadata": {
        "id": "HEHHcRasIDm9"
      },
      "source": [
        "As you can see, the text predicted by the untrained model is pretty nonsensical! How can we do better? We can train the network!"
      ]
    },
    {
      "cell_type": "markdown",
      "metadata": {
        "id": "LJL0Q0YPY6Ee"
      },
      "source": [
        "## 2.5 Training the model: loss and training operations\n",
        "\n",
        "Now it's time to train the model!\n",
        "\n",
        "At this point, we can think of our next character prediction problem as a standard classification problem. Given the previous state of the RNN, as well as the input at a given time step, we want to predict the class of the next character -- that is, to actually predict the next character.\n",
        "\n",
        "To train our model on this classification task, we can use a form of the `crossentropy` loss (negative log likelihood loss). Specifically, we will use the [`sparse_categorical_crossentropy`](https://www.tensorflow.org/api_docs/python/tf/keras/losses/sparse_categorical_crossentropy) loss, as it utilizes integer targets for categorical classification tasks. We will want to compute the loss using the true targets -- the `labels` -- and the predicted targets -- the `logits`.\n",
        "\n",
        "Let's first compute the loss using our example predictions from the untrained model:"
      ]
    },
    {
      "cell_type": "code",
      "execution_count": null,
      "metadata": {
        "id": "4HrXTACTdzY-",
        "outputId": "17e8a589-e864-4489-aaf1-2787fe01133b"
      },
      "outputs": [
        {
          "name": "stdout",
          "output_type": "stream",
          "text": [
            "Prediction shape:  (32, 100, 83)  # (batch_size, sequence_length, vocab_size)\n",
            "scalar_loss:       4.4191628\n"
          ]
        }
      ],
      "source": [
        "### Defining the loss function ###\n",
        "\n",
        "'''TODO: define the loss function to compute and return the loss between\n",
        "    the true labels and predictions (logits). Set the argument from_logits=True.'''\n",
        "def compute_loss(labels, logits):\n",
        "  loss = tf.keras.losses.sparse_categorical_crossentropy(labels, logits, from_logits=True) # TODO\n",
        "  return loss\n",
        "\n",
        "'''TODO: compute the loss using the true next characters from the example batch\n",
        "    and the predictions from the untrained model several cells above'''\n",
        "example_batch_loss = compute_loss(y, pred) # TODO\n",
        "\n",
        "print(\"Prediction shape: \", pred.shape, \" # (batch_size, sequence_length, vocab_size)\")\n",
        "print(\"scalar_loss:      \", example_batch_loss.numpy().mean())"
      ]
    },
    {
      "cell_type": "markdown",
      "metadata": {
        "id": "0Seh7e6eRqd7"
      },
      "source": [
        "Let's start by defining some hyperparameters for training the model. To start, we have provided some reasonable values for some of the parameters. It is up to you to use what we've learned in class to help optimize the parameter selection here!"
      ]
    },
    {
      "cell_type": "code",
      "execution_count": null,
      "metadata": {
        "id": "JQWUUhKotkAY"
      },
      "outputs": [],
      "source": [
        "### Hyperparameter setting and optimization ###\n",
        "\n",
        "# Optimization parameters:\n",
        "num_training_iterations = 2000  # Increase this to train longer\n",
        "batch_size = 4  # Experiment between 1 and 64\n",
        "seq_length = 100  # Experiment between 50 and 500\n",
        "learning_rate = 5e-3  # Experiment between 1e-5 and 1e-1\n",
        "\n",
        "# Model parameters:\n",
        "vocab_size = len(vocab)\n",
        "embedding_dim = 256\n",
        "rnn_units = 1024  # Experiment between 1 and 2048\n",
        "\n",
        "# Checkpoint location:\n",
        "checkpoint_dir = './training_checkpoints'\n",
        "checkpoint_prefix = os.path.join(checkpoint_dir, \"my_ckpt\")"
      ]
    },
    {
      "cell_type": "markdown",
      "metadata": {
        "id": "5cu11p1MKYZd"
      },
      "source": [
        "Now, we are ready to define our training operation -- the optimizer and duration of training -- and use this function to train the model. You will experiment with the choice of optimizer and the duration for which you train your models, and see how these changes affect the network's output. Some optimizers you may like to try are [`Adam`](https://www.tensorflow.org/api_docs/python/tf/keras/optimizers/Adam?version=stable) and [`Adagrad`](https://www.tensorflow.org/api_docs/python/tf/keras/optimizers/Adagrad?version=stable).\n",
        "\n",
        "First, we will instantiate a new model and an optimizer. Then, we will use the [`tf.GradientTape`](https://www.tensorflow.org/api_docs/python/tf/GradientTape) method to perform the backpropagation operations.\n",
        "\n",
        "We will also generate a print-out of the model's progress through training, which will help us easily visualize whether or not we are minimizing the loss."
      ]
    },
    {
      "cell_type": "code",
      "execution_count": null,
      "metadata": {
        "id": "F31vzJ_u66cb",
        "outputId": "650f2255-c9b3-4ad3-f1b2-8cbb91aa2d7d"
      },
      "outputs": [
        {
          "data": {
            "image/png": "[encoded data removed]",
            "text/plain": [
              "<Figure size 432x288 with 1 Axes>"
            ]
          },
          "metadata": {},
          "output_type": "display_data"
        },
        {
          "name": "stderr",
          "output_type": "stream",
          "text": [
            "100%|██████████| 2000/2000 [1:06:33<00:00,  2.00s/it]\n"
          ]
        },
        {
          "data": {
            "image/png": "[encoded data removed]",
            "text/plain": [
              "<Figure size 432x288 with 1 Axes>"
            ]
          },
          "metadata": {
            "needs_background": "light"
          },
          "output_type": "display_data"
        }
      ],
      "source": [
        "### Define optimizer and training operation ###\n",
        "\n",
        "'''TODO: instantiate a new model for training using the `build_model`\n",
        "  function and the hyperparameters created above.'''\n",
        "model = build_model(vocab_size, embedding_dim, rnn_units, batch_size)\n",
        "\n",
        "'''TODO: instantiate an optimizer with its learning rate.\n",
        "  Checkout the tensorflow website for a list of supported optimizers.\n",
        "  https://www.tensorflow.org/api_docs/python/tf/keras/optimizers/\n",
        "  Try using the Adam optimizer to start.'''\n",
        "optimizer = tf.keras.optimizers.Adam(learning_rate)\n",
        "\n",
        "@tf.function\n",
        "def train_step(x, y):\n",
        "  # Use tf.GradientTape()\n",
        "  with tf.GradientTape() as tape:\n",
        "\n",
        "    '''TODO: feed the current input into the model and generate predictions'''\n",
        "    y_hat = model(x)\n",
        "\n",
        "    '''TODO: compute the loss!'''\n",
        "    loss = compute_loss(y, y_hat)\n",
        "\n",
        "  # Now, compute the gradients\n",
        "  '''TODO: complete the function call for gradient computation.\n",
        "      Remember that we want the gradient of the loss with respect all\n",
        "      of the model parameters.\n",
        "      HINT: use `model.trainable_variables` to get a list of all model\n",
        "      parameters.'''\n",
        "  grads = tape.gradient(loss, model.trainable_variables)\n",
        "\n",
        "  # Apply the gradients to the optimizer so it can update the model accordingly\n",
        "  optimizer.apply_gradients(zip(grads, model.trainable_variables))\n",
        "  return loss\n",
        "\n",
        "##################\n",
        "# Begin training!#\n",
        "##################\n",
        "\n",
        "history = []\n",
        "plotter = mdl.util.PeriodicPlotter(sec=2, xlabel='Iterations', ylabel='Loss')\n",
        "if hasattr(tqdm, '_instances'): tqdm._instances.clear() # clear if it exists\n",
        "\n",
        "for iter in tqdm(range(num_training_iterations)):\n",
        "\n",
        "  # Grab a batch and propagate it through the network\n",
        "  x_batch, y_batch = get_batch(vectorized_songs, seq_length, batch_size)\n",
        "  loss = train_step(x_batch, y_batch)\n",
        "\n",
        "  # Update the progress bar\n",
        "  history.append(loss.numpy().mean())\n",
        "  plotter.plot(history)\n",
        "\n",
        "  # Update the model with the changed weights!\n",
        "  if iter % 100 == 0:\n",
        "    model.save_weights(checkpoint_prefix)\n",
        "\n",
        "# Save the trained model and the weights\n",
        "model.save_weights(checkpoint_prefix)\n"
      ]
    },
    {
      "cell_type": "markdown",
      "metadata": {
        "id": "kKkD5M6eoSiN"
      },
      "source": [
        "## 2.6 Generate music using the RNN model\n",
        "\n",
        "Now, we can use our trained RNN model to generate some music! When generating music, we'll have to feed the model some sort of seed to get it started (because it can't predict anything without something to start with!).\n",
        "\n",
        "Once we have a generated seed, we can then iteratively predict each successive character (remember, we are using the ABC representation for our music) using our trained RNN. More specifically, recall that our RNN outputs a `softmax` over possible successive characters. For inference, we iteratively sample from these distributions, and then use our samples to encode a generated song in the ABC format.\n",
        "\n",
        "Then, all we have to do is write it to a file and listen!"
      ]
    },
    {
      "cell_type": "markdown",
      "metadata": {
        "id": "JIPcXllKjkdr"
      },
      "source": [
        "### Restore the latest checkpoint\n",
        "\n",
        "To keep this inference step simple, we will use a batch size of 1. Because of how the RNN state is passed from timestep to timestep, the model will only be able to accept a fixed batch size once it is built.\n",
        "\n",
        "To run the model with a different `batch_size`, we'll need to rebuild the model and restore the weights from the latest checkpoint, i.e., the weights after the last checkpoint during training:"
      ]
    },
    {
      "cell_type": "code",
      "execution_count": null,
      "metadata": {
        "id": "LycQ-ot_jjyu",
        "outputId": "1324cd7e-a76c-4273-c15e-6b62c07644c4"
      },
      "outputs": [
        {
          "name": "stdout",
          "output_type": "stream",
          "text": [
            "Model: \"sequential_3\"\n",
            "_________________________________________________________________\n",
            "Layer (type)                 Output Shape              Param #   \n",
            "=================================================================\n",
            "embedding_3 (Embedding)      (1, None, 256)            21248     \n",
            "_________________________________________________________________\n",
            "lstm_3 (LSTM)                (1, None, 1024)           5246976   \n",
            "_________________________________________________________________\n",
            "dense_3 (Dense)              (1, None, 83)             85075     \n",
            "=================================================================\n",
            "Total params: 5,353,299\n",
            "Trainable params: 5,353,299\n",
            "Non-trainable params: 0\n",
            "_________________________________________________________________\n"
          ]
        }
      ],
      "source": [
        "'''TODO: Rebuild the model using a batch_size=1'''\n",
        "model = build_model(vocab_size, embedding_dim, rnn_units, batch_size=1)\n",
        "\n",
        "# Restore the model weights for the last checkpoint after training\n",
        "model.load_weights(tf.train.latest_checkpoint(checkpoint_dir))\n",
        "model.build(tf.TensorShape([1, None]))\n",
        "\n",
        "model.summary()"
      ]
    },
    {
      "cell_type": "markdown",
      "metadata": {
        "id": "I9b4V2C8N62l"
      },
      "source": [
        "Notice that we have fed in a fixed `batch_size` of 1 for inference."
      ]
    },
    {
      "cell_type": "markdown",
      "metadata": {
        "id": "DjGz1tDkzf-u"
      },
      "source": [
        "### The prediction procedure\n",
        "\n",
        "Now, we're ready to write the code to generate text in the ABC music format:\n",
        "\n",
        "* Initialize a \"seed\" start string and the RNN state, and set the number of characters we want to generate.\n",
        "\n",
        "* Use the start string and the RNN state to obtain the probability distribution over the next predicted character.\n",
        "\n",
        "* Sample from multinomial distribution to calculate the index of the predicted character. This predicted character is then used as the next input to the model.\n",
        "\n",
        "* At each time step, the updated RNN state is fed back into the model, so that it now has more context in making the next prediction. After predicting the next character, the updated RNN states are again fed back into the model, which is how it learns sequence dependencies in the data, as it gets more information from the previous predictions.\n",
        "\n",
        "![LSTM inference](https://raw.githubusercontent.com/aamini/introtodeeplearning/2019/lab1/img/lstm_inference.png)\n",
        "\n",
        "Complete and experiment with this code block (as well as some of the aspects of network definition and training!), and see how the model performs. How do songs generated after training with a small number of epochs compare to those generated after a longer duration of training?"
      ]
    },
    {
      "cell_type": "code",
      "execution_count": null,
      "metadata": {
        "id": "WvuwZBX5Ogfd"
      },
      "outputs": [],
      "source": [
        "### Prediction of a generated song ###\n",
        "\n",
        "def generate_text(model, start_string, generation_length=1000):\n",
        "  # Evaluation step (generating ABC text using the learned RNN model)\n",
        "\n",
        "  '''TODO: convert the start string to numbers (vectorize)'''\n",
        "  input_eval = [char2idx[num] for num in start_string]\n",
        "  input_eval = tf.expand_dims(input_eval, 0)\n",
        "\n",
        "  # Empty string to store our results\n",
        "  text_generated = []\n",
        "\n",
        "  # Here batch size == 1\n",
        "  model.reset_states()\n",
        "  tqdm._instances.clear()\n",
        "\n",
        "  for i in tqdm(range(generation_length)):\n",
        "      '''TODO: evaluate the inputs and generate the next character predictions'''\n",
        "      predictions = model(input_eval)\n",
        "\n",
        "      # Remove the batch dimension\n",
        "      predictions = tf.squeeze(predictions, 0)\n",
        "\n",
        "      '''TODO: use a multinomial distribution to sample'''\n",
        "      predicted_id = tf.random.categorical(predictions, num_samples=1)[-1,0].numpy()\n",
        "\n",
        "      # Pass the prediction along with the previous hidden state\n",
        "      #   as the next inputs to the model\n",
        "      input_eval = tf.expand_dims([predicted_id], 0)\n",
        "\n",
        "      '''TODO: add the predicted character to the generated text!'''\n",
        "      # Hint: consider what format the prediction is in vs. the output\n",
        "      text_generated.append(idx2char[predicted_id])\n",
        "\n",
        "  return (start_string + ''.join(text_generated))"
      ]
    },
    {
      "cell_type": "code",
      "execution_count": null,
      "metadata": {
        "id": "ktovv0RFhrkn",
        "outputId": "bfb6a931-b2e7-452a-8b3c-3cda50299b5b"
      },
      "outputs": [
        {
          "name": "stderr",
          "output_type": "stream",
          "text": [
            " 25%|██▍       | 2461/10000 [00:21<01:11, 105.44it/s]"
          ]
        }
      ],
      "source": [
        "'''TODO: Use the model and the function defined above to generate ABC format text of length 1000!\n",
        "    As you may notice, ABC files start with \"X\" - this may be a good start string.'''\n",
        "generated_text = generate_text(model, start_string=\"X\", generation_length=30000) # TODO\n"
      ]
    },
    {
      "cell_type": "markdown",
      "metadata": {
        "id": "AM2Uma_-yVIq"
      },
      "source": [
        "### Play back the generated music!\n",
        "\n",
        "We can now call a function to convert the ABC format text to an audio file, and then play that back to check out our generated music! Try training longer if the resulting song is not long enough, or re-generating the song!"
      ]
    },
    {
      "cell_type": "code",
      "execution_count": null,
      "metadata": {
        "id": "LrOtG64bfLto",
        "outputId": "4665b0be-8208-4ff4-c4c5-b73e1a41f899"
      },
      "outputs": [
        {
          "name": "stdout",
          "output_type": "stream",
          "text": [
            "Found 43 songs in text\n",
            "X:184\n",
            "T:Connishelland\n",
            "Z: id:dc-reel-14\n",
            "M:C\n",
            "L:1/8\n",
            "K:D Major\n",
            "BcB B2:|!\n",
            "d|edB def|gfg agf|g2b agf gf gf|e3 c B2|!\n",
            "A2 ^cA A2:|!\n",
            "cd|fa a3 g3|bag fed|Bcd ecA|afd ecA A2:|!\n",
            "a|bag faa|afd fdd|Adf adB|GBB BAG|d2e f2:|!\n",
            "\n",
            "\n",
            "\n",
            "X:19\n",
            "T:Beahe Willedel-8\n",
            "M: Aufg abaf|gfed edga|bggb agbg|!\n",
            "eaa^g a2|]!\n",
            "\n",
            "\n",
            "\n",
            "X:85\n",
            "T:Hig Tindlandell\n",
            "Z: id:dc-slipjig-54\n",
            "M:9/8\n",
            "L:1/8\n",
            "K:D Major\n",
            "zE|D2B, A,B,D|A,DD DFG|ABc d^c|d3 f3 AGF|G3 G2:|!\n",
            "F|AFE Bed|cAG AGE|D3|]!\n",
            "cd|Aff eg2|dcA dcA|]!\n",
            "\n",
            "\n",
            "\n",
            "X:18\n",
            "T:Brian O'Lynn\n",
            "Z: id:dc-slipjig-6\n",
            "M:9/8\n",
            "L:1/8\n",
            "K:G Major\n",
            "D|G2G cGB|cAB cde|cAA Bcd|Adf d2\n",
            "L:1/8\n",
            "K:G Major\n",
            "d>c|BA G>A|Bd B|!\n",
            "A2 Bc|de a>f|g2 f/g/ ag|e f2|A2 B2 de|d2 c2 A2|de dBGB cAFA|!\n",
            "GAFA G2EF|EFGE D2A|BEE E2:|!\n",
            "\n",
            "\n",
            "\n",
            "X:11\n",
            "T:Fishef dy Buscha Casin\n",
            "Z: id:dc-reel-140\n",
            "M:C\n",
            "L:1/8\n",
            "K:D Major\n",
            "B|ADF AFA|def a2f|gfe d2c|B3 AEA|!\n",
            "F2A AFA|BEE id:dc-ocarolan-31\n",
            "M:3/4\n",
            "L:1/8\n",
            "K:G Major\n",
            "\n",
            "\n",
            "\n",
            "L:1/8\n",
            "K:A Major\n",
            "D||GAB ecA|BAG Bcd|edB gfg|d2B BAG Bde|gdB BAG|EGE DB,c|\n",
            "M:C\n",
            "L:1/8\n",
            "K:A Major\n",
            "A|F3A BdcA|d2fd fdak Croin\n",
            "Z: id:dc-slipjig-93\n",
            "M: ig:dc-reel-82\n",
            "M:C\n",
            "L:1/8\n",
            "K:A Dorian\n",
            "D>E|DE G>A|B2 G2 DB,|DG2 G2|D>D FA c2|!\n",
            "G>E F/G/E/D/|Ad f/f/ gf|ge d>g|!\n",
            "g>a ba a^ga|fef afd|ede fd|FA dA|^cA A>A|!\n",
            "AF EC|D2:|!\n",
            "\n",
            "\n",
            "\n",
            "X:24\n",
            "T:Road to Reee's cay\n",
            "Z: id:dc-jig-95\n",
            "M:6/8\n",
            "L:1/8\n",
            "K:D Majig-9\n",
            "M:6/8\n",
            "L:1/8\n",
            "K:A Mixolydian\n",
            "ef/e/ L:6/8\n",
            "L:1/8\n",
            "K:D Major\n",
            "ed|cAA A2B|cAd cAG|AGA FDE|DED GFD|!\n",
            "D3 Bcd|faf edA|f3 fec|B2G B2:|!\n",
            "A|BAG ded|ded d3|GAB c2d|e2d e3|!\n",
            "g2G BAG|dBG ADE|FGF EDB,|DFA GEC|Dd,D FDD:|!\n",
            "E3 B3|AGF D2|A3 A de|f2 f2|A2 d2 f2|A2 f2 f2|A2 f2 A2=g|!\n",
            "d2 fd Bc|BA ec|Bc A2|!\n",
            "G3 A G3|A a^g g2|dg ed|d2 de Bd|A2 f2 f2|]!\n",
            "\n",
            "\n",
            "\n",
            "X:28\n",
            "T:Connaig Pischa\n",
            "Z: id:dc-reel-382\n",
            "M:C\n",
            "L:1/8\n",
            "K:A Major\n",
            "dB|c2A cAF GFE|DFA ecA|Ace fed|cAe f3:|!\n",
            "aga agf g3|g3 gab|age pomelle Honder Pubewle\n",
            "Z: id:dc-jig-19\n",
            "M:6/8\n",
            "L:1/8\n",
            "K:D Major\n",
            "f|g3 f3|fed cAF GFE|DB, DB,|D2c =c E2:|!\n",
            "GB AD|FA GA BA|fA fe|dA (3ABc B2:|!\n",
            "\n",
            "\n",
            "\n",
            "X:10\n",
            "T:Denor's Days\n",
            "Z: id:dc-reel-148\n",
            "M:C\n",
            "L:1/8\n",
            "K:D Major\n",
            "c|d2ef a2ea|edge abag|afge dBAc|BEE2 G2:|!\n",
            "\n",
            "\n",
            "\n",
            "X:148\n",
            "T:Plaf Dashlebar\n",
            "Z: id:dc-jig-4\n",
            "M:6/8\n",
            "L:1/8\n",
            "K:A Major\n",
            "eae ced|cAA cAeA|defg afdf afgf|dgfe dcAF|EGce c3:|!\n",
            "gage d^cde|f2ef a2ba|gedB G2:|!\n",
            "\n",
            "\n",
            "\n",
            "X:13\n",
            "T:Conlelland Orovin\n",
            "Z: id:dc-slipjig-22\n",
            "M:9/8\n",
            "L:1/8\n",
            "K:G Major\n",
            "GA|B2G BAG|EGG AGE|EDC D2:|!\n",
            "de|f3 f3|gfe gfe|dBA agf gag|fed cAG|E3 Bef|!\n",
            "g>a ge|fe d^c|d2 d3 A|!\n",
            "e>f ge|de ge|dB A3:|!\n",
            "f2 f2|fd df|fg e2|d4 g2|c2 d2 d2|Bc ec|!\n",
            "d3 f g^fd|efe dcA|AGE DEB|!\n",
            "G3 A G2|c2 B2 c2 A2|G2 G2 D2|GF A2 B2|A4 C2|D2 C2 D2|]!\n",
            "B,|A,2B, D2|BAFG ABcA|B2AB G3:|!\n",
            "K:G Major\n",
            "dAF Beef|gedB BAAG|F2FE DFAF|ABdA FAdA|!\n",
            "Beed ADFA|defe defe|d2fd ddBd|eBB2 bgaf|!\n",
            "gfeg befg|a3 g3:|!\n",
            "g2ee g3f|efge fdBd|ABce agag|fdd2 fed/c/B/A/|B2 A2 D2|FE GB AF|E2 E2:|!\n",
            "\n",
            "\n",
            "\n",
            "X:8\n",
            "T:Brian O'Lynn\n",
            "Z: id:dc-hornpipe-76\n",
            "M:C|\n",
            "L:1/8\n",
            "K:A Dorian\n",
            "ed|^cABG AGED G2AG|A2BG ADB,A,|D2B,A, D2Bd|cedB A2GA|!\n",
            "B3A B2BA|B3 cBA|EAc ABc|!\n",
            "d2e fdB|AFA dBG|ABA dAF|GEC|D2B,D D2B|!\n",
            "Add eaa|gfg ag^g|bgg agf g2e fga|ced cAA:|!\n",
            "BcB BAF|ded ded dBd|fed ^cAA|!\n",
            "A2 d>e|fed adc|cAG FD|!\n",
            "D2 F/G/A/B/c/|dG e/B/A/G/ F/E/|D>D FGA|Bd cA/B/|cA A/c/B/A/|G2 G2 E2:|!\n",
            "\n",
            "\n",
            "\n",
            "X:14\n",
            "T:Paddman's Ramblerury\n",
            "Z: id:dc-jig-7\n",
            "M:6/8\n",
            "L:1/8\n",
            "K:G Major\n",
            "G>A GA BG|GB AG/A/|de f/g/f/e/ de|!\n",
            "g2 fd ed|ce Bc|!\n",
            "ecA Aef|gf gagec d^cAG|FAdB A2FA|!\n",
            "dABd edBd|e2d2 BAFA|!\n",
            "FGAB cB=f|edef gfed|BAFA defg|fedB ADFA|]!\n",
            "\n",
            "\n",
            "\n",
            "X:336\n",
            "T:Ord's Dannafgaf|edBA BAFA|!\n",
            "D2FA DFAF|GFGA BGE2|AGEG AFGE|EDB,A, DEFG|!\n",
            "EFEE cBBA|B2EB ABcA|defg afge|dcBA G2e2|!\n",
            "cBAe f3e|faf edcA|dfaf gfec:|!\n",
            "HighlE:C\n",
            "L:1/8\n",
            "K:A Major\n",
            "g|e2ef g2bg baga|bgge e2fe|d2cd A2AB|!\n",
            "aeae aged|cAA2 df2e|f2fe dcA|dcA AGE|D3 A2F|!\n",
            "D2B BAG D2:|!\n",
            "e|f3 a3|baf gee|AGE DB,D|ECC Dorian\n",
            "A3f|g2dB cefg|aeae aged|cAAc BEEe|!\n",
            "f2f afd|afe efg|fad fAf|gfe def gfe|d3 fd:|!\n",
            "8\n",
            "L:1/8\n",
            "K:B Dorian\n",
            "ed|efga bgag|fecA dAA2|agfe dcBA|!\n",
            "defg afdf|bgaf gefe|efge fedB|ABAB c2:|!\n",
            " X:14\n",
            "T:Firding of Tan\n",
            "Z: id:dc-reel-362\n",
            "M:C\n",
            "L:1/8\n",
            "K:D Major\n",
            "A|d2Bd gdBd|gdBc dB|(3Bed edB|!\n",
            "EAA BAG|A2B cBA|!\n",
            "c2A A3|BAG FDE DFG|F2G FAG|EA=F G2|]!\n",
            "\n",
            "\n",
            "\n",
            "X:24\n",
            "T:Nick Raf in the Hour\n",
            "Z: id:dc-polka-30\n",
            "M:C|\n",
            "L:1/8\n",
            "K:D Major\n",
            "zABd fedB|ADFD A,DFA|E2FD ABAe|f2df efge:|!\n",
            "agfd efg|dce a3|gfe gfg|f2d gfg|!\n",
            "BcB B2c def|g3 gag|fd cA|FA G3:|!\n",
            "dfedAG2 DGBd|e2AB cAEG (3faf gfed|cA (3BcA (3FEF|DEGA BAFA|BcdB A2:|!\n",
            "AB|cBe^c O=oan\n",
            "Z: id:dc-polka-30\n",
            "M:2/4\n",
            "L:1/8\n",
            "K:A Major\n",
            "BAdB AFA|BEE cBc|ded fdB|EBd cAF|!\n",
            "FE|EDE cAF|GAB c3|ABc d3|]!\n",
            "\n",
            "\n",
            "\n",
            "X:74\n",
            "T:Orandy Ra\n",
            "X:237\n",
            "T:Hug erise\n",
            "Z: id:dc-hornpipe-48\n",
            "M:C|\n",
            "L:1/8\n",
            "K:G Major\n",
            "DGBG|c2B2 A2ce|dedB ABGA|efgd BAA2|!\n",
            "B,CE Bced|eddB AFDF|bBdB ADFA|BFAF E2:|!\n",
            "fe|f2df ec|B2B>A Bc|de d>e/f/g/|fe f>g|af gefd|!\n",
            "dfaf gbeg|faed cAA|AGF EDE|!\n",
            "DED DEA|BcB BBA|Bcd A3:|!\n",
            "g2e fdB|AGE DB,D|E2cA BdAG|AGBd gdBd|gdBd gdgd|!\n",
            "B2GB AGED|E2BA G2FG|ABAG FDEF|!\n",
            "Addd f3e|faa^g a2=fa|baf gedB|!\n",
            "ceef afeg|f2df b2gb|afce dcBA|!\n",
            "c2Bc AGFA|BABc A3B|BAGF G2:|!\n",
            "\n",
            "\n",
            "\n",
            "X:18\n",
            "T:Bish Hert\n",
            "Z: id:dc-slipjig-7\n",
            "M:3/4\n",
            "L:1/8\n",
            "K:G Major\n",
            "g>f|ed dB Ac|d2 d:|!\n",
            "z|g2f edB|def ged|BAF E2:|!\n",
            "e|a^gab age|fdd gag|fed cAA2:|!\n",
            "\n",
            "\n",
            "\n",
            "X:78\n",
            "T:DA, DFA,A,|B,A,B,E DB,B,C D3B, A,F,D|!\n",
            "E2eA fded|cABc d2cB|d2cA BAFc|ABcA d2|]!\n",
            "\n",
            "\n",
            "\n",
            "X:12\n",
            "T:Nhen\n",
            "Z: id:dc-reel-258\n",
            "M:C\n",
            "L:1/8\n",
            "K:A Major\n",
            "AG|AddB AGFG|EB,B, D,B,A,|FD D2:|!\n",
            "z|afd afe|dce gfg|aba age|dBB BAF|!\n",
            "GBd gA|BdB BAG Bcd|ged dBA|f2e dAG|!\n",
            "BeB B2A|GEB cBc|dcA AGA|!\n",
            "EGB BEB|cBc A3|AGE DB,A,|DA,A, D3:|!\n",
            "\n",
            "\n",
            "\n",
            "X:3\n",
            "T:Carolamours\n",
            "Z: id:dc-waliz-3\n",
            "M:C|\n",
            "L:1/8\n",
            "K:D Major\n",
            "dA|A3B c2BG|AcBA eBe2|e2 (3ABA (3AB^c|dc-reel-143\n",
            "M:C\n",
            "L:1/8\n",
            "K:D Major\n",
            "D3 d3|G3 dGB|EAG FED|dDD BGB|!\n",
            "A3 dAG|EDE G2E DB,C|EGE DEG|DFA Bcd|!\n",
            "g3 bag|a3 g3|gf edB|d2B Bcd|!\n",
            "dcA d2B|cBc cBc|dge f2|!\n",
            "a^g afd|faf bag|afg fga b3|dgb gef|gfe d^cd|cee ecA Bcd|!\n",
            "dgg aba|bgg a2f g3|f3 gab|faf gfe:A|!\n",
            "cde^c dfeg|afdf g2dg|bgag bgag|eaa2 bagf|a2bg agef|!\n",
            "afdf gfed|c2ec AB|^cABc defg|fece of Da^f d=f|!\n",
            "gfgb aged|cdef gbag|e2d2 c2ef|gece dedg|f2 b2 a3f|!\n",
            "b3f afde|fgaf gfed|c2BA B2:|!\n",
            "\n",
            "\n",
            "\n",
            "X:88\n",
            "T:Eilly Drind's\n",
            "Z: id:dc-reel-112\n",
            "M:C\n",
            "L:1/8\n",
            "K:G Major\n",
            "ge|f2gf bfaf|eBcA defg|afdf afge|dBcA dfg2:|]!\n",
            "\n",
            "\n",
            "\n",
            "X:3\n",
            "T:Garnan Hayfefed:|!\n",
            "e|faaf gfec|dcAG FEGB|cBcd eAec|dcBG AGED|!\n",
            "B,DDB, G,A,B,|CDFD FEDC|B,DA, D4|]!\n",
            "\n",
            "\n",
            "\n",
            "X:110\n",
            "T:Mus of No. 2\n",
            "Z: id:dc-reel-256\n",
            "M:C\n",
            "L:1/8\n",
            "K:D Major\n",
            "A3B AFF2|FEDF DB,A,2|BAG2 ABcA|d2dc d2|]!\n",
            "\n",
            "\n",
            "\n",
            "X:370\n",
            "T:Wild ar Mur\n",
            "Z: id:dc-reel-50\n",
            "M:C\n",
            "L:1/8\n",
            "K:D Major\n",
            "B|A3B cAFG|A2Bd ABcA|def/g/f/ec d2:|!\n",
            "cd|ecAc BAA2|BcBA cBcd|eaa^g a3f|ed^ce a3=g Ra-onan\n",
            "M:C\n",
            "L:1/8\n",
            "K:A Major\n",
            "d>e/f/g/a/e/ d/c/B/|c/A/B/ AF DC|F3 EDC|D2F D2:|!\n",
            "\n",
            "\n",
            "\n",
            "X:14\n",
            "T:Nolling3A f3a|bgba gfe|ded d2B|A2F dEF|!\n",
            "ECD D2E DEF|GAA E2G|cAG FED|FAA fed|cA GE|DA D>E|!\n",
            "E>F EC|ED DC|!\n",
            "D2|AD F/G/|Ad d2|A2 A2 G2|GF D>a|ge g>e|!\n",
            "def age|aea edB|cBA Bcd|!\n",
            "eaa age|fed cde|fdB BAF Bc|def afd|!\n",
            "eef fec|eAA fBd|agf gfe|ded d2:|!\n",
            "e|f2ag efge|dBGB ADFA|GABG AGEF|G3A BGG2|B2B2 A3 B3|AG2 cBc|!\n",
            "d2e fed|e3 B3 dAB|cBc ABc|d3 d2:|!\n",
            "f|afd ecA|fed cAF|G\n",
            "L:1/8\n",
            "K:A Dorian\n",
            "A|DA,A, E3|AFD E2g|fed cAG|F2D D2C in Liskellan's\n",
            "Z: id:dc-ocarolan-5\n",
            "M:C 4 D2:|!\n",
            "\n",
            "\n",
            "\n",
            "X:58\n",
            "T:Crowley's of Bance\n",
            "Z: id:dc-reel-152\n",
            "M:C\n",
            "L:1/8\n",
            "K:D Major\n",
            "Bc|d2 dec edc d^cA|dAd d2e|fed dcB|AGE DB,D|!\n",
            "EDE ADD|E2d cAG EFG|A2d fdB|A2c BAG|!\n",
            "FAd fdd|edB cBA|def gdB|!\n",
            "AF EF|GE E>f|ed Bc|d2 BA A2:|!\n",
            "\n",
            "\n",
            "\n",
            "X:188\n",
            "T:Prip O'Lynn\n",
            "Z: id:dc-polka-2\n",
            "M:9/8\n",
            "L:1/8\n",
            "K:G Major\n",
            "G2|DG BAG|BAG AGF|E3 E2:|!\n",
            "A|B3 B<g|agf edB|ded edB|!\n",
            "d>e fd|ed dA/B/|c/B/A/:|!\n",
            "\n",
            "\n",
            "\n",
            "X:148\n",
            "T:Brian\n",
            "B|A2BA BAFA|DFFA d2de|f2dB ADFA|BABc ABcd|fdcA AFDA|!\n",
            "d2AB c=cAB|cABG ABAF|E3F EFAd|eaa2 bgf|!\n",
            "dcAG EDD:|!\n",
            "ed|a2af bagb|agef gfef|gfed cAA2:|!\n",
            "\n",
            "\n",
            "\n",
            "X:267\n",
            "T:Woml-49\n",
            "M:C\n",
            "L:1/8\n",
            "K:D Major\n",
            "fg|edBd ADFA|defg af^gf|defd edfd|edBc AB^cd|!\n",
            "EAcA BcAB|cABG A2BA|Bed2 edBd|!\n",
            "eAling\n",
            "Z: id:dc-reel-244\n",
            "M:C\n",
            "L:1/8\n",
            "K:D Major\n",
            "dA|G3 A3|B3 B AG|EB cd|ed de/f/|!\n",
            "ed A>c|Bd de|fd e^c|de fd AF DF|!\n",
            "D>A de|fd de/|de fdB|dBG cGE|!\n",
            "\n",
            "\n",
            "\n",
            "X:18\n",
            "T:Conn O'Raffer\n",
            "Z: id:dc-slipjig-2\n",
            "M:2/4\n",
            "L:1/8\n",
            "K:G Major\n",
            "Ad|cdec dege|!\n",
            "defg a^gab|e2f edB|ded def|gfe def|!\n",
            "g2b agf|gfe fed|cAF Gge|dcB AGA|B2G BAG|!\n",
            "ABc d^cA|AGE DB,|DG BG|G2 C2|A2 GA|]!\n",
            "\n",
            "\n",
            "\n",
            "X:84\n",
            "T:Bunf of Ballinis\n",
            "Z: id:dc-slipjig-25\n",
            "M:2/4\n",
            "L:1/8\n",
            "K:E Dorian\n",
            "E>D|AD EA|!\n",
            "FA AB G>A|BA Be|fe ef|!\n",
            "fd e/f/g/f/g/|ae f/A/B/B/|!\n",
            "d|g2 f2 fg|a2 ba a2|f2 f2|f2 f2|af ec|d2 d>e|!\n",
            "e>f ec|d/e/f/ gd|^cA A>e|g/f/e/d/ d2:|!\n",
            "\n",
            "\n",
            "\n",
            "X:31\n",
            "T:Bhee Se Islarelgagfe bgec|!\n",
            "Gefg a2fe|dAA2 defe|dBAF E2:|!\n",
            "\n",
            "\n",
            "\n",
            "X:170\n",
            "T:Pron\n",
            "Z: id:dc-jig-14\n",
            "M:6/8\n",
            "L:1/8\n",
            "K:G Major\n",
            "GE|E3 ABd|e3 ABc|d2E E2:|!\n",
            "fg|agb agf g3|dBG B2c|dcd ecA|BdB BAF:|!\n",
            "\n",
            "\n",
            "\n",
            "X:14\n",
            "T:F/Major\n",
            "\n",
            "\n",
            "\n",
            "X:23\n",
            "T:Paddy O'Ryaney\n",
            "Z: id:dc-reel-242\n",
            "M:C\n",
            "L:1/8\n",
            "K:G Major\n",
            "D2|GGG2 FDED|GFGB AGFD|GABc dfga|bged cAA2|BAFA c3e|fafd cAK:|!\n",
            "\n",
            "\n",
            "\n",
            "X:18\n",
            "T:Conning Big\n",
            "Z: id:dc-reel-241\n",
            "M:C\n",
            "L:1/8\n",
            "K:G Major\n",
            "Ad|gedg edBA|dgbg agge|defe defa|bgef g2dg|!\n",
            "agfe defe|dcBA gfge|fdcA AGFG|]!\n",
            "\n",
            "\n",
            "\n",
            "X:14\n",
            "T:Fareen of Larked cAA2 GBGB|!\n",
            "A2cA BABc|dBB2 cBAF|GEBE AGEF GABc|!\n",
            "dBBA BAFA|dAfA d2:|!\n",
            "\n",
            "\n",
            "\n",
            "X:111\n",
            "T:Od B ADFA|BABc d2:|!\n",
            "de|fefa gfed|cdef eBdg|eagf ecAc|!\n",
            "d2eg f2fe|fedf bgbg|afge fafg|!\n",
            "a^gaf gfed|Bdgf efge|fdcA BcAG|!\n",
            "A2fA fAaA|Bee2:|!\n",
            "gfed cAGc|Bdgd dag2|edBd gfg2:|!\n",
            "\n",
            "\n",
            "\n",
            "X:8\n",
            "T:Boys ic Bay\n",
            "Z: id:dc-jig-164\n",
            "M:6/8\n",
            "L:1/8\n",
            "K:D Major\n",
            "AG|FDD|Add BAG c2A|dcA Bce|dcB A2d|!\n",
            "fgf ged dBG|ABe gag|f2d A2c|B2E E2:|!\n",
            "\n",
            "\n",
            "\n",
            "X:24\n",
            "T:Proving RundGE|!\n",
            "D3A BcdB|A2FA BAFD|E2eA eAeg|eAA2 edBd|ADFG A2FA|f2df efge:|!\n",
            "agef g2fg|afge fde2|fdad defa|!\n",
            "befa gbag|fedB A3 AFD|D3 EFG|Ad^c d^c|Bc Ag/f/g/|!\n",
            "fd ^cA A2|BA Bc|BB AB|dc A:|!\n",
            "\n",
            "\n",
            "\n",
            "X:29\n",
            "T:Pip to Rian\n",
            "Z: id:dc-setdancett\n",
            "Z: id:dc-slipjig-2\n",
            "M:C\n",
            "L:1/8\n",
            "K:G Major\n",
            "GE|D2B, D2 B2|A2 dc d|ecA AB=c|dec dcB|A3 B2A|!\n",
            "B2B efg|a3 g2:|!\n",
            "e|age a3|bag age|dBd g3|bag a2f fai|fe f/e|fdfg edAF:|!\n",
            "agfe d2Bd|c2A2 AcGA|B2GB BAA2|Defe dBB2|!\n",
            "aff2 bfge|^fde^c dedB|defd efgB|edef defg|afge dB:|!\n",
            "ed|e2ef ecAe|faaf bfaf|gefd gfga|bgag fdgf|B2^ce gfed|!\n",
            "c2B2 cdeg|f2df afdf|gefg afed|fdec d2:|!\n",
            "K:A Dorian\n",
            "B|cAA2 BGEE|D2d2 AGA|BABc dcBc|A2GA BAGA|!\n",
            "BABc B2AG|EdcA BEE2|c2BB AGFE|DGBG DGBF|EBBA BAGA|!\n",
            "B2BA BAGB|ABce fedB|ADFA dAFA|GBB2 |GABd c2Ac|B2E2 GABc|!\n",
            "dBdB gBAB|Add2 B2AF DB,B,D|B2BE ABAG|E2B2 B2dB|!\n",
            "cAdA eAfg|afge defg a2fg|ae^e2 f2:|!\n",
            "\n",
            "\n",
            "\n"
          ]
        },
        {
          "name": "stdout",
          "output_type": "stream",
          "text": [
            "X:11\n",
            "T:Planxty B2:|!\n",
            "\n",
            "\n",
            "\n",
            "X:15\n",
            "T:Fabf\n",
            "Z: id:dc-setdance-15\n",
            "M:6/8\n",
            "L:1/8\n",
            "K:D Major\n",
            "G>A Bd|ed dB|BA BA|G>A BA|!\n",
            "A2 B2 GE|D/E/F/G/ AF|E2 E2 c2|cA B/c/B/|AG A|]!\n",
            "e>e|fd df|ed Bd|cB Ae|!\n",
            "f2 ed|!\n",
            "cA Ac|BA cA|EA cA FA|!\n",
            "GB A/E/E/D/|D2 D2:|!\n",
            "eA A/B/c/|ae a/b/ ae|=cdef g2fg|!\n",
            "(3fga cege faaf|ecAc fAfA|f3e dcBA|!\n",
            "B2BA FAA2|fdec A3B|!\n",
            "d3f edef|gfga ge (3Bcd (3Afaf gfef|!\n",
            "g3e fag|fd ede|fed fed|cAB A:|!\n",
            "\n",
            "\n",
            "\n"
          ]
        }
      ],
      "source": [
        "### Play back generated songs ###\n",
        "\n",
        "generated_songs = mdl.lab1.extract_song_snippet(generated_text)\n",
        "for i, song in enumerate(generated_songs):\n",
        "  # Synthesize the waveform from a song\n",
        "  mdl.lab1.play_song(song)\n",
        "  print(song, end=\"\\n\\n\\n\\n\")\n",
        "  #print(song)"
      ]
    },
    {
      "cell_type": "code",
      "execution_count": null,
      "metadata": {
        "id": "kJZdB4jlRnVf"
      },
      "outputs": [],
      "source": []
    },
    {
      "cell_type": "markdown",
      "metadata": {
        "id": "HgVvcrYmSKGG"
      },
      "source": [
        "## 2.7 Experiment and **get awarded for the best songs**!\n",
        "\n",
        "Congrats on making your first sequence model in TensorFlow! It's a pretty big accomplishment, and hopefully you have some sweet tunes to show for it.\n",
        "\n",
        "Consider how you may improve your model and what seems to be most important in terms of performance. Here are some ideas to get you started:\n",
        "\n",
        "*  How does the number of training epochs affect the performance?\n",
        "*  What if you alter or augment the dataset?\n",
        "*  Does the choice of start string significantly affect the result?\n",
        "\n",
        "Try to optimize your model and submit your best song! **MIT students and affiliates will be eligible for prizes during the IAP offering**. To enter the competition, MIT students and affiliates should upload the following to the course Canvas:\n",
        "\n",
        "* a recording of your song;\n",
        "* iPython notebook with the code you used to generate the song;\n",
        "* a description and/or diagram of the architecture and hyperparameters you used -- if there are any additional or interesting modifications you made to the template code, please include these in your description.\n",
        "\n",
        "You can also tweet us at [@MITDeepLearning](https://twitter.com/MITDeepLearning) a copy of the song! See this example song generated by a previous 6.S191 student (credit Ana Heart): <a href=\"https://twitter.com/AnaWhatever16/status/1263092914680410112?s=20\">song from May 20, 2020.</a>\n",
        "<script async src=\"https://platform.twitter.com/widgets.js\" charset=\"utf-8\"></script>\n",
        "\n",
        "Have fun and happy listening!\n",
        "\n",
        "![Let's Dance!](http://33.media.tumblr.com/3d223954ad0a77f4e98a7b87136aa395/tumblr_nlct5lFVbF1qhu7oio1_500.gif)"
      ]
    }
  ],
  "metadata": {
    "kernelspec": {
      "display_name": "Python 3",
      "language": "python",
      "name": "python3"
    },
    "language_info": {
      "codemirror_mode": {
        "name": "ipython",
        "version": 3
      },
      "file_extension": ".py",
      "mimetype": "text/x-python",
      "name": "python",
      "nbconvert_exporter": "python",
      "pygments_lexer": "ipython3",
      "version": "3.8.5"
    },
    "colab": {
      "provenance": []
    }
  },
  "nbformat": 4,
  "nbformat_minor": 0
}